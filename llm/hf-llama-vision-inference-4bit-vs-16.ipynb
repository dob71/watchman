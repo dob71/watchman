{
 "cells": [
  {
   "cell_type": "markdown",
   "metadata": {},
   "source": [
    "<h1>Local infernece with hf transformers LLAMA3.2</h1>\n",
    "This notebook uses the hf transformers LLAMA3.2 16-bit and 4-bit quantized models for inference.</br>\n",
    "This is done to confirm that when running inference locally we see the same errors as with OLLAMA,</br>\n",
    "and to compare the results of the 16-bit and 4-bit quantized models.</br>"
   ]
  },
  {
   "cell_type": "code",
   "execution_count": null,
   "metadata": {},
   "outputs": [],
   "source": [
    "import os\n",
    "import sys\n",
    "import gc\n",
    "import base64\n",
    "from pathlib import Path\n",
    "import pandas as pd\n",
    "from PIL import Image\n",
    "from torchvision import transforms\n",
    "from io import BytesIO\n",
    "from sklearn.model_selection import train_test_split\n",
    "from transformers import MllamaForConditionalGeneration, AutoTokenizer, AutoProcessor, BitsAndBytesConfig\n",
    "import torch"
   ]
  },
  {
   "cell_type": "code",
   "execution_count": 4,
   "metadata": {},
   "outputs": [],
   "source": [
    "# Load the tokenizer and model\n",
    "hf_model_name = \"meta-llama/Llama-3.2-11B-Vision-Instruct\"\n",
    "\n",
    "# Check if GPU is available\n",
    "device = \"cuda\" if torch.cuda.is_available() else \"cpu\""
   ]
  },
  {
   "cell_type": "code",
   "execution_count": 5,
   "metadata": {},
   "outputs": [],
   "source": [
    "# Define the quantization configuration\n",
    "quantization_config = BitsAndBytesConfig(\n",
    "    load_in_4bit=True,  # Enable 4-bit quantization\n",
    "    bnb_4bit_use_double_quant=True,  # Use double quantization for better performance\n",
    "    bnb_4bit_quant_type=\"nf4\"  # Specify quantization type (e.g., NF4)\n",
    ")"
   ]
  },
  {
   "cell_type": "code",
   "execution_count": 6,
   "metadata": {},
   "outputs": [],
   "source": [
    "# cleanup\n",
    "model = None\n",
    "tokenizer = None\n",
    "processor = None\n",
    "gc.collect()\n",
    "torch.cuda.empty_cache()"
   ]
  },
  {
   "cell_type": "code",
   "execution_count": null,
   "metadata": {},
   "outputs": [],
   "source": [
    "# Load the 4-bit quantized model and tokenizer\n",
    "tokenizer = AutoTokenizer.from_pretrained(hf_model_name)\n",
    "processor = AutoProcessor.from_pretrained(hf_model_name)\n",
    "model = MllamaForConditionalGeneration.from_pretrained(\n",
    "    hf_model_name,\n",
    "    device_map=\"auto\",  # Automatically map model layers to available GPUs\n",
    "    torch_dtype=torch.bfloat16,  # Use float16 precision for faster inference\n",
    "    quantization_config=quantization_config,  # Pass the quantization configuration\n",
    "    low_cpu_mem_usage=True,\n",
    ")\n",
    "model16 = MllamaForConditionalGeneration.from_pretrained(\n",
    "    hf_model_name,\n",
    "    device_map=\"auto\",  # Automatically map model layers to available GPUs\n",
    "    torch_dtype=torch.bfloat16,  # Use float16 precision for faster inference\n",
    "    low_cpu_mem_usage=True,\n",
    ")"
   ]
  },
  {
   "cell_type": "code",
   "execution_count": 16,
   "metadata": {},
   "outputs": [],
   "source": [
    "# set up vars for finding train data\n",
    "dataset = \"../.data/dataset\" # dataset folder location\n",
    "chans = [\"porch\"] # list of channels to load the data for\n",
    "objs = [\"person\"] # list of objects to load the data for\n",
    "model_name = \"ollama-complex\" # model interface name to use for inference experimentation\n",
    "c_desc = {\n",
    "    \"porch\": \"Porch\",\n",
    "}\n",
    "o_desc = {\n",
    "    \"person\": \"a person\",\n",
    "}"
   ]
  },
  {
   "cell_type": "code",
   "execution_count": null,
   "metadata": {},
   "outputs": [],
   "source": [
    "# load model interfaces we can use for testing\n",
    "print(f\"Working dir: {os.getcwd()}\")\n",
    "sys.path.append(os.path.abspath(\"..\"))\n",
    "sys.path.append(os.path.abspath(\"../orchestrator\"))\n",
    "from shared_settings import *\n",
    "from model_interfaces import *\n",
    "print(MODELS)"
   ]
  },
  {
   "cell_type": "code",
   "execution_count": null,
   "metadata": {},
   "outputs": [],
   "source": [
    "# create an instance of the model_name interface (the connection refused error can be ignored, only need the prompt from the MODEL_ITERFACE)\n",
    "MODEL_INTERFACE = MODELS[model_name]()"
   ]
  },
  {
   "cell_type": "code",
   "execution_count": 18,
   "metadata": {},
   "outputs": [],
   "source": [
    "# Define an example image as input in base64 format\n",
    "def load_image_from_base64(base64_string):\n",
    "    # Decode the base64 string\n",
    "    image_data = base64.b64decode(base64_string)\n",
    "    image = Image.open(BytesIO(image_data)).convert(\"RGB\")\n",
    "    return image\n",
    "\n",
    "# Define an example image as input in base64 format\n",
    "def load_image_from_file(pname):\n",
    "    # Load the image\n",
    "    image = Image.open(pname).convert(\"RGB\")\n",
    "    return image\n",
    "\n",
    "def test_inf(model, s, c, o, res):\n",
    "    print(f\"Model: {model.device} Subdir: {s} Expecting: {res}\")\n",
    "    image_pname = f\"{s}/image.jpg\"\n",
    "    # Define the input prompt for completion\n",
    "    prompt = MODEL_INTERFACE.gen_detect_prompt(o_desc[o], c_desc[c])\n",
    "    # Combine the image w/ the text input (tokenizes text too)\n",
    "    image = load_image_from_file(image_pname)\n",
    "    inputs = processor(image, prompt, return_tensors=\"pt\").to(model.device)\n",
    "    # Generate the model's completion\n",
    "    output = model.generate(\n",
    "        **inputs,\n",
    "        max_length=200,  # Adjust max_length as needed\n",
    "        temperature=None,  # Adjust temperature for creativity\n",
    "        top_p=None,  # Use nucleus sampling for diversity\n",
    "        do_sample=False  # Enable sampling for non-deterministic output\n",
    "    )\n",
    "    # Decode output\n",
    "    rsp_prefix = tokenizer.decode(inputs.input_ids[0], skip_special_tokens=True)\n",
    "    response = tokenizer.decode(output[0], skip_special_tokens=True)\n",
    "    img = Image.open(image_pname)\n",
    "    w, h = img.size\n",
    "    display(img.resize((int(w / 4), int(h / 4))))\n",
    "    print(\"Inference result: \", response[len(rsp_prefix):])\n",
    "    print(\"---------------------------\")"
   ]
  },
  {
   "cell_type": "code",
   "execution_count": null,
   "metadata": {},
   "outputs": [],
   "source": [
    "# Try inference for both 4 and 16 bit models on one true and one false positive sample from the datatset\n",
    "for c in chans:\n",
    "    for o in objs:\n",
    "        dir = f\"{dataset}/{c}/{o}\"\n",
    "        subdirs = [f.path for f in os.scandir(dir) if f.is_dir()]\n",
    "        true_pos = False\n",
    "        false_pos = False\n",
    "        for s in subdirs:\n",
    "            if true_pos and false_pos:\n",
    "                break\n",
    "            if os.path.exists(f\"{s}/skip\"):\n",
    "                continue\n",
    "            if not false_pos and os.path.exists(f\"{s}/no\"):\n",
    "                test_inf(model, s, c, o, \"no\")\n",
    "                test_inf(model16, s, c, o, \"no\")\n",
    "                false_pos = True\n",
    "            if not true_pos and not os.path.exists(f\"{s}/no\"):\n",
    "                test_inf(model, s, c, o, \"yes\")\n",
    "                test_inf(model16, s, c, o, \"yes\")\n",
    "                true_pos = True"
   ]
  },
  {
   "cell_type": "markdown",
   "metadata": {},
   "source": [
    "Surprisingly, the 4-bit quantized model does not generate the false positives where the 16bit one does.\n",
    "Let's run a full sweep over the collected data to compare how one performs vs the other."
   ]
  },
  {
   "cell_type": "code",
   "execution_count": 31,
   "metadata": {},
   "outputs": [
    {
     "name": "stdout",
     "output_type": "stream",
     "text": [
      "Total:1 err16b_no:1 err4b_no:0 err16b_yes:0 err4b_yes:0 Subdir:porch/person/176      \n",
      "Total:19 err16b_no:1 err4b_no:0 err16b_yes:0 err4b_yes:0 Subdir:porch/person/826      \n",
      "Total:50 err16b_no:1 err4b_no:0 err16b_yes:0 err4b_yes:0 Subdir:porch/person/828      \n",
      "Total:51 err16b_no:0 err4b_no:0 err16b_yes:0 err4b_yes:1 Subdir:porch/person/28      \n",
      "Total:58 err16b_no:1 err4b_no:0 err16b_yes:0 err4b_yes:0 Subdir:porch/person/23       \n",
      "Total:60 err16b_no:1 err4b_no:0 err16b_yes:0 err4b_yes:0 Subdir:porch/person/193      \n",
      "Total:63 err16b_no:1 err4b_no:0 err16b_yes:0 err4b_yes:0 Subdir:porch/person/192      \n",
      "Total:103 err16b_no:0 err4b_no:0 err16b_yes:0 err4b_yes:1 Subdir:porch/person/850      \n",
      "Total:154 err16b_no:1 err4b_no:0 err16b_yes:0 err4b_yes:0 Subdir:porch/person/24       \n",
      "Total:175 err16b_no:1 err4b_no:0 err16b_yes:0 err4b_yes:0 Subdir:porch/person/198      \n",
      "Total:189 err16b_no:1 err4b_no:0 err16b_yes:0 err4b_yes:0 Subdir:porch/person/209      \n",
      "Total:195 err16b_no:0 err4b_no:0 err16b_yes:0 err4b_yes:1 Subdir:porch/person/158      \n",
      "Total:201 err16b_no:1 err4b_no:0 err16b_yes:0 err4b_yes:0 Subdir:porch/person/207      \n",
      "Total:216 err16b_no:1 err4b_no:0 err16b_yes:0 err4b_yes:0 Subdir:porch/person/796      \n",
      "Total:227 err16b_no:1 err4b_no:0 err16b_yes:0 err4b_yes:0 Subdir:porch/person/203      \n",
      "Total:246 err16b_no:1 err4b_no:0 err16b_yes:0 err4b_yes:0 Subdir:porch/person/201      \n",
      "Total:294 err16b_no:0 err4b_no:0 err16b_yes:0 err4b_yes:1 Subdir:porch/person/59       \n",
      "Total:310 err16b_no:1 err4b_no:0 err16b_yes:0 err4b_yes:0 Subdir:porch/person/179      \n",
      "Total:326 err16b_no:1 err4b_no:0 err16b_yes:0 err4b_yes:0 Subdir:porch/person/204      \n",
      "Total:332 err16b_no:1 err4b_no:0 err16b_yes:0 err4b_yes:0 Subdir:porch/person/230      \n",
      "Total:333 err16b_no:1 err4b_no:0 err16b_yes:0 err4b_yes:0 Subdir:porch/person/26      \n",
      "Total:341 err16b_no:1 err4b_no:0 err16b_yes:0 err4b_yes:0 Subdir:porch/person/168      \n",
      "Total:354 err16b_no:0 err4b_no:0 err16b_yes:0 err4b_yes:1 Subdir:porch/person/159      \n",
      "Total:362 err16b_no:1 err4b_no:0 err16b_yes:0 err4b_yes:0 Subdir:porch/person/827      \n",
      "Total:370 err16b_no:1 err4b_no:0 err16b_yes:0 err4b_yes:0 Subdir:porch/person/177      \n",
      "Total:374 err16b_no:1 err4b_no:0 err16b_yes:0 err4b_yes:0 Subdir:porch/person/190      \n",
      "Total:410 err16b_no:1 err4b_no:0 err16b_yes:0 err4b_yes:0 Subdir:porch/person/162      \n",
      "Total:450 err16b_no:1 err4b_no:0 err16b_yes:0 err4b_yes:0 Subdir:porch/person/187      \n",
      "Total:459 err16b_no:1 err4b_no:0 err16b_yes:0 err4b_yes:0 Subdir:porch/person/197      \n",
      "Total:463 err16b_no:1 err4b_no:0 err16b_yes:0 err4b_yes:0 Subdir:porch/person/206      \n",
      "Total:482 err16b_no:0 err4b_no:0 err16b_yes:0 err4b_yes:1 Subdir:porch/person/58       \n",
      "Total:495 err16b_no:1 err4b_no:0 err16b_yes:0 err4b_yes:0 Subdir:porch/person/228      \n",
      "Total:521 err16b_no:1 err4b_no:0 err16b_yes:0 err4b_yes:0 Subdir:porch/person/173      \n",
      "Total:531 err16b_no:1 err4b_no:0 err16b_yes:0 err4b_yes:0 Subdir:porch/person/200      \n",
      "Total:564 err16b_no:1 err4b_no:0 err16b_yes:0 err4b_yes:0 Subdir:porch/person/148      \n",
      "Total:567 err16b_no:1 err4b_no:0 err16b_yes:0 err4b_yes:0 Subdir:porch/person/458      \n",
      "Total:580 err16b_no:1 err4b_no:0 err16b_yes:0 err4b_yes:0 Subdir:porch/person/195      \n",
      "Total:584 err16b_no:1 err4b_no:0 err16b_yes:0 err4b_yes:0 Subdir:porch/person/183      \n",
      "Total:617 err16b_no:1 err4b_no:0 err16b_yes:0 err4b_yes:0 Subdir:porch/person/174      \n",
      "Total:620 err16b_no:1 err4b_no:0 err16b_yes:0 err4b_yes:0 Subdir:porch/person/181      \n",
      "Total:631 err16b_no:1 err4b_no:0 err16b_yes:0 err4b_yes:0 Subdir:porch/person/188      \n",
      "Total:635 err16b_no:1 err4b_no:0 err16b_yes:0 err4b_yes:0 Subdir:porch/person/27       \n",
      "Total:655 err16b_no:0 err4b_no:0 err16b_yes:0 err4b_yes:1 Subdir:porch/person/95       \n",
      "Total:660 err16b_no:1 err4b_no:0 err16b_yes:0 err4b_yes:0 Subdir:porch/person/184      \n",
      "Total:684 err16b_no:1 err4b_no:0 err16b_yes:0 err4b_yes:0 Subdir:porch/person/456      \n",
      "Total:716 err16b_no:1 err4b_no:0 err16b_yes:0 err4b_yes:0 Subdir:porch/person/25       \n",
      "Total:749 err16b_no:1 err4b_no:0 err16b_yes:0 err4b_yes:0 Subdir:porch/person/149      \n",
      "Total:795 err16b_no:1 err4b_no:0 err16b_yes:0 err4b_yes:0 Subdir:porch/person/825      \n",
      "Total:804 err16b_no:1 err4b_no:0 err16b_yes:0 err4b_yes:0 Subdir:porch/person/189      \n",
      "Total:810 err16b_no:1 err4b_no:0 err16b_yes:0 err4b_yes:0 Subdir:porch/person/457      \n",
      "Total:864 err16b_no:0 err4b_no:0 err16b_yes:0 err4b_yes:0 Subdir:porch/person/681      \n",
      "----------------------------------------------------------\n",
      "\n",
      "Summary: out of 864 false No 4bit:125 16bit:168, false Yes 4bit:7 16bit:0\n"
     ]
    }
   ],
   "source": [
    "def check_inf(model, s, c, o, res):\n",
    "    image_pname = f\"{s}/image.jpg\"\n",
    "    # Define the input prompt for completion\n",
    "    prompt = MODEL_INTERFACE.gen_detect_prompt(o_desc[o], c_desc[c])\n",
    "    # Combine the image w/ the text input (tokenizes text too)\n",
    "    image = load_image_from_file(image_pname)\n",
    "    inputs = processor(image, prompt, return_tensors=\"pt\").to(model.device)\n",
    "    # Generate the model's completion\n",
    "    output = model.generate(\n",
    "        **inputs,\n",
    "        max_length=200,  # Adjust max_length as needed\n",
    "        temperature=None,  # Adjust temperature for creativity\n",
    "        top_p=None,  # Use nucleus sampling for diversity\n",
    "        do_sample=False  # Enable sampling for non-deterministic output\n",
    "    )\n",
    "    # Decode output\n",
    "    rsp_prefix = tokenizer.decode(inputs.input_ids[0], skip_special_tokens=True)\n",
    "    response = tokenizer.decode(output[0], skip_special_tokens=True)\n",
    "    res_idx = response[len(rsp_prefix):].lower().find(res)\n",
    "    return 1 if res_idx < 0 else 0\n",
    "\n",
    "total = 0\n",
    "total_4b_no = 0\n",
    "total_16b_no = 0\n",
    "total_4b_yes = 0\n",
    "total_16b_yes = 0\n",
    "for c in chans:\n",
    "    for o in objs:\n",
    "        dir = f\"{dataset}/{c}/{o}\"\n",
    "        subdirs = [f.path for f in os.scandir(dir) if f.is_dir()]\n",
    "        for s in subdirs:\n",
    "            if os.path.exists(f\"{s}/skip\"):\n",
    "                continue\n",
    "            if os.path.exists(f\"{s}/no\"):\n",
    "                cur_err_no = check_inf(model, s, c, o, \"no\")\n",
    "                cur_err16_no = check_inf(model16, s, c, o, \"no\")\n",
    "                cur_err_yes = 0\n",
    "                cur_err16_yes = 0\n",
    "            else:\n",
    "                cur_err_yes = check_inf(model, s, c, o, \"yes\")\n",
    "                cur_err16_yes = check_inf(model16, s, c, o, \"yes\")\n",
    "                cur_err_no = 0\n",
    "                cur_err16_no = 0\n",
    "            total_4b_no += cur_err_no\n",
    "            total_16b_no += cur_err16_no\n",
    "            total_4b_yes += cur_err_yes\n",
    "            total_16b_yes += cur_err16_yes\n",
    "            total += 1\n",
    "            _, dn = os.path.split(s)\n",
    "            print(f\"\\rTotal:{total} err16b_no:{cur_err16_no} err4b_no:{cur_err_no} err16b_yes:{cur_err16_yes} err4b_yes:{cur_err_yes} Subdir:{c}/{o}/{dn}      \", end=(\"\\n\" if not (cur_err16_no == cur_err_no and cur_err16_yes == cur_err_yes)  else \"\"))\n",
    "\n",
    "print(f\"\\n----------------------------------------------------------\")\n",
    "print(f\"\\nSummary: out of {total} false No 4bit:{total_4b_no} 16bit:{total_16b_no}, false Yes 4bit:{total_4b_yes} 16bit:{total_16b_yes}\")\n"
   ]
  },
  {
   "cell_type": "markdown",
   "metadata": {},
   "source": [
    "It looks like 4bit quantized model was a bit better at negative detection. It missed some true positive cases though.</br>\n",
    "It's quite possible that it's just the side effect of the dataset only containing all the \"positives\" the 16 bit model detected (including errors).</br>\n",
    "Perhaps the 4bit could have made more false positive mistakes, just on different images (not represented here since 16bit rejected them correctly)."
   ]
  },
  {
   "cell_type": "markdown",
   "metadata": {},
   "source": [
    "Note on the GPU parallelizm, the MllamaForConditionalGeneration.from_pretrained(..., device_map=\"auto\", ...) should not be used with .to(device) as it's managing GPUs internally. \"The model weights are not tied...\" message can be ignored (it's incorrect)."
   ]
  }
 ],
 "metadata": {
  "colab": {
   "provenance": []
  },
  "kernelspec": {
   "display_name": ".venv",
   "language": "python",
   "name": "python3"
  },
  "language_info": {
   "codemirror_mode": {
    "name": "ipython",
    "version": 3
   },
   "file_extension": ".py",
   "mimetype": "text/x-python",
   "name": "python",
   "nbconvert_exporter": "python",
   "pygments_lexer": "ipython3",
   "version": "3.10.12"
  }
 },
 "nbformat": 4,
 "nbformat_minor": 0
}
