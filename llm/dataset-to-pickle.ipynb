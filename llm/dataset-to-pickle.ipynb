{
 "cells": [
  {
   "cell_type": "markdown",
   "metadata": {},
   "source": [
    "<h1>Prepare Watchman Dataset</h1>\n",
    "This notebook uses the Watchman dataset. See readme.txt fine-tuning section for details.</br>\n",
    "It loads the dataset data into pandas dataframe and stores it in .pkl file for use later in the fine_tune.ipynb notebook.</br>\n"
   ]
  },
  {
   "cell_type": "code",
   "execution_count": 1,
   "metadata": {
    "id": "RjJm3q3aKRVB"
   },
   "outputs": [],
   "source": [
    "import os\n",
    "import sys\n",
    "import base64\n",
    "from pathlib import Path\n",
    "import pandas as pd\n",
    "from datetime import datetime"
   ]
  },
  {
   "cell_type": "code",
   "execution_count": 2,
   "metadata": {},
   "outputs": [],
   "source": [
    "# set up vars for finding train data\n",
    "dataset = \"../.data/dataset\" # dataset folder location\n",
    "chans = [\"porch\"] # list of channels to load the data for\n",
    "objs = [\"person\"] # list of objects to load the data for\n",
    "model_name = \"ollama-complex\" # model interface name to use for inference experimentation\n",
    "c_desc = {\n",
    "    \"porch\": \"Porch\",\n",
    "}\n",
    "o_desc = {\n",
    "    \"person\": \"a person\",\n",
    "}"
   ]
  },
  {
   "cell_type": "code",
   "execution_count": 3,
   "metadata": {
    "id": "d3tpdL0KMdgc"
   },
   "outputs": [],
   "source": [
    "# Make pandas dataframe w/ the data for training, images (in base64)\n",
    "# Columns:\n",
    "# img: image datat in base64\n",
    "# c_desc: image channel description\n",
    "# o_desc: object description\n",
    "# res: expected result for the prompt to detect the object on the image\n",
    "\n",
    "# Create an empty DataFrame\n",
    "df = pd.DataFrame(columns=[\"img\", \"c_desc\", \"o_desc\", \"res\"])\n",
    "\n",
    "# Define the add_row function\n",
    "def add_row(dataframe, s, c, o, res):\n",
    "    image_pname = f\"{s}/image.jpg\"\n",
    "    img_data = base64.b64encode(Path(image_pname).read_bytes()).decode()\n",
    "    # Append a new row to the dataframe\n",
    "    dataframe.loc[len(dataframe)] = {\n",
    "        \"img\": img_data,\n",
    "        \"c_desc\": c_desc[c],\n",
    "        \"o_desc\": o_desc[o],\n",
    "        \"res\": res,\n",
    "    }\n",
    "\n",
    "# Add all the images from the dataset\n",
    "for c in chans:\n",
    "    for o in objs:\n",
    "        dir = f\"{dataset}/{c}/{o}\"\n",
    "        subdirs = [f.path for f in os.scandir(dir) if f.is_dir()]\n",
    "        for s in subdirs:\n",
    "            if os.path.exists(f\"{s}/skip\"):\n",
    "                continue\n",
    "            if os.path.exists(f\"{s}/no\"):\n",
    "                add_row(df, s, c, o, \"no\")\n",
    "            else:\n",
    "                add_row(df, s, c, o, \"yes\")\n"
   ]
  },
  {
   "cell_type": "code",
   "execution_count": 4,
   "metadata": {},
   "outputs": [],
   "source": [
    "# Lowercase the 'c_desc' and 'o_desc' columns\n",
    "df['c_desc'] = df['c_desc'].str.lower()\n",
    "df['o_desc'] = df['o_desc'].str.lower()\n",
    "\n",
    "# Capitalize the first letter in the 'res' column\n",
    "df['res'] = df['res'].str.capitalize()"
   ]
  },
  {
   "cell_type": "code",
   "execution_count": null,
   "metadata": {},
   "outputs": [],
   "source": [
    "df.head(3)"
   ]
  },
  {
   "cell_type": "code",
   "execution_count": null,
   "metadata": {},
   "outputs": [],
   "source": [
    "df.describe()"
   ]
  },
  {
   "cell_type": "code",
   "execution_count": null,
   "metadata": {},
   "outputs": [],
   "source": [
    "pickle_file = f\"../.data/data-{datetime.now():%Y-%m-%d_%H-%M-%S}.pkl\"\n",
    "print(f\"Pickle file name: {pickle_file}\")\n",
    "df.to_pickle(pickle_file)"
   ]
  }
 ],
 "metadata": {
  "colab": {
   "provenance": []
  },
  "kernelspec": {
   "display_name": ".venv",
   "language": "python",
   "name": "python3"
  },
  "language_info": {
   "codemirror_mode": {
    "name": "ipython",
    "version": 3
   },
   "file_extension": ".py",
   "mimetype": "text/x-python",
   "name": "python",
   "nbconvert_exporter": "python",
   "pygments_lexer": "ipython3",
   "version": "3.10.12"
  }
 },
 "nbformat": 4,
 "nbformat_minor": 0
}
